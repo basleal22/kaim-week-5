{
 "cells": [
  {
   "cell_type": "code",
   "execution_count": 2,
   "metadata": {},
   "outputs": [],
   "source": [
    "import os\n",
    "import pandas as pd\n"
   ]
  },
  {
   "cell_type": "code",
   "execution_count": 3,
   "metadata": {},
   "outputs": [
    {
     "name": "stdout",
     "output_type": "stream",
     "text": [
      "C:\\Users\\hp\\Desktop\\tutorial\\kaim-week-5\n"
     ]
    }
   ],
   "source": [
    "os.chdir('C:/Users/hp/Desktop/tutorial/kaim-week-5')\n",
    "print(os.getcwd())"
   ]
  },
  {
   "cell_type": "code",
   "execution_count": 4,
   "metadata": {},
   "outputs": [],
   "source": [
    "%load_ext autoreload\n",
    "%autoreload 2"
   ]
  },
  {
   "cell_type": "code",
   "execution_count": 5,
   "metadata": {},
   "outputs": [],
   "source": [
    "from telethon import TelegramClient\n",
    "import csv\n",
    "import os"
   ]
  },
  {
   "cell_type": "code",
   "execution_count": 7,
   "metadata": {},
   "outputs": [
    {
     "name": "stdout",
     "output_type": "stream",
     "text": [
      "Signed in successfully as Basleal Abera; remember to not break the ToS or you will risk an account ban!\n",
      "Scraped data from @ZemenExpress\n",
      "Scraped data from @nevacomputer\n",
      "Scraped data from @meneshayeofficial\n",
      "Scraped data from @ethio_brand_collection\n",
      "Scraped data from @Leyueqa\n"
     ]
    }
   ],
   "source": [
    "from dotenv import load_dotenv\n",
    "from scripts.scraping import scraper,main\n",
    "load_dotenv('.env')\n",
    "api_id = os.getenv('App_API_ID')\n",
    "api_hash = os.getenv('App_API_HASH')\n",
    "phone = os.getenv('phone')\n",
    "# Remove the session file if it exists\n",
    "if os.path.exists('scraping_session.session'):\n",
    "    os.remove('scraping_session.session')\n",
    "# Initialize the client once\n",
    "client = TelegramClient('scraping_session', api_id, api_hash)\n",
    "async def run():\n",
    "    async with client:\n",
    "        await main(client)  # Call the scraping main function#\n",
    "\n",
    "# Run the asynchronous function by awaiting directly in the notebook\n",
    "await run()\n",
    "\n",
    "#async def main():\n",
    "    # Start the client and log in\n",
    "#    await client.start(phone)\n",
    "\n",
    "    # After logging in, you can start using the client for scraping data or other actions\n",
    "\n",
    "#    print(\"Logged in successfully!\")\n",
    "\n",
    "# Run the async function\n",
    "#await main()"
   ]
  },
  {
   "cell_type": "code",
   "execution_count": 8,
   "metadata": {},
   "outputs": [
    {
     "data": {
      "text/html": [
       "<div>\n",
       "<style scoped>\n",
       "    .dataframe tbody tr th:only-of-type {\n",
       "        vertical-align: middle;\n",
       "    }\n",
       "\n",
       "    .dataframe tbody tr th {\n",
       "        vertical-align: top;\n",
       "    }\n",
       "\n",
       "    .dataframe thead th {\n",
       "        text-align: right;\n",
       "    }\n",
       "</style>\n",
       "<table border=\"1\" class=\"dataframe\">\n",
       "  <thead>\n",
       "    <tr style=\"text-align: right;\">\n",
       "      <th></th>\n",
       "      <th>Channel Title</th>\n",
       "      <th>Channel Username</th>\n",
       "      <th>ID</th>\n",
       "      <th>Message</th>\n",
       "      <th>Date</th>\n",
       "      <th>Media Path</th>\n",
       "    </tr>\n",
       "  </thead>\n",
       "  <tbody>\n",
       "    <tr>\n",
       "      <th>0</th>\n",
       "      <td>Zemen Express®</td>\n",
       "      <td>@ZemenExpress</td>\n",
       "      <td>6035</td>\n",
       "      <td>💥💥...................................💥💥\\n\\n📌Do...</td>\n",
       "      <td>2025-01-18 05:12:07+00:00</td>\n",
       "      <td>NaN</td>\n",
       "    </tr>\n",
       "    <tr>\n",
       "      <th>1</th>\n",
       "      <td>Zemen Express®</td>\n",
       "      <td>@ZemenExpress</td>\n",
       "      <td>6034</td>\n",
       "      <td>💥💥...................................💥💥\\n\\n📌Do...</td>\n",
       "      <td>2025-01-18 05:11:55+00:00</td>\n",
       "      <td>NaN</td>\n",
       "    </tr>\n",
       "    <tr>\n",
       "      <th>2</th>\n",
       "      <td>Zemen Express®</td>\n",
       "      <td>@ZemenExpress</td>\n",
       "      <td>6033</td>\n",
       "      <td>💥💥...................................💥💥\\n\\n📌Do...</td>\n",
       "      <td>2025-01-18 05:11:36+00:00</td>\n",
       "      <td>NaN</td>\n",
       "    </tr>\n",
       "    <tr>\n",
       "      <th>3</th>\n",
       "      <td>Zemen Express®</td>\n",
       "      <td>@ZemenExpress</td>\n",
       "      <td>6032</td>\n",
       "      <td>💥💥...................................💥💥\\n\\n📌 H...</td>\n",
       "      <td>2025-01-17 18:02:23+00:00</td>\n",
       "      <td>NaN</td>\n",
       "    </tr>\n",
       "    <tr>\n",
       "      <th>4</th>\n",
       "      <td>Zemen Express®</td>\n",
       "      <td>@ZemenExpress</td>\n",
       "      <td>6031</td>\n",
       "      <td>💥💥...................................💥💥\\n\\n📌 H...</td>\n",
       "      <td>2025-01-17 18:02:11+00:00</td>\n",
       "      <td>NaN</td>\n",
       "    </tr>\n",
       "  </tbody>\n",
       "</table>\n",
       "</div>"
      ],
      "text/plain": [
       "    Channel Title Channel Username    ID  \\\n",
       "0  Zemen Express®    @ZemenExpress  6035   \n",
       "1  Zemen Express®    @ZemenExpress  6034   \n",
       "2  Zemen Express®    @ZemenExpress  6033   \n",
       "3  Zemen Express®    @ZemenExpress  6032   \n",
       "4  Zemen Express®    @ZemenExpress  6031   \n",
       "\n",
       "                                             Message  \\\n",
       "0  💥💥...................................💥💥\\n\\n📌Do...   \n",
       "1  💥💥...................................💥💥\\n\\n📌Do...   \n",
       "2  💥💥...................................💥💥\\n\\n📌Do...   \n",
       "3  💥💥...................................💥💥\\n\\n📌 H...   \n",
       "4  💥💥...................................💥💥\\n\\n📌 H...   \n",
       "\n",
       "                        Date  Media Path  \n",
       "0  2025-01-18 05:12:07+00:00         NaN  \n",
       "1  2025-01-18 05:11:55+00:00         NaN  \n",
       "2  2025-01-18 05:11:36+00:00         NaN  \n",
       "3  2025-01-17 18:02:23+00:00         NaN  \n",
       "4  2025-01-17 18:02:11+00:00         NaN  "
      ]
     },
     "execution_count": 8,
     "metadata": {},
     "output_type": "execute_result"
    }
   ],
   "source": [
    "from scripts.preprocessing import load_data\n",
    "path='C:/Users/hp/Desktop/tutorial/kaim-week-5/data/telegram_data.csv'\n",
    "data=load_data(path)\n",
    "data.head()"
   ]
  },
  {
   "cell_type": "code",
   "execution_count": 9,
   "metadata": {},
   "outputs": [
    {
     "data": {
      "text/plain": [
       "Channel Title          0\n",
       "Channel Username       0\n",
       "ID                     0\n",
       "Message             1023\n",
       "Date                   0\n",
       "Media Path          3000\n",
       "dtype: int64"
      ]
     },
     "execution_count": 9,
     "metadata": {},
     "output_type": "execute_result"
    }
   ],
   "source": [
    "data.isnull().sum()"
   ]
  },
  {
   "cell_type": "markdown",
   "metadata": {},
   "source": [
    "Our message column in our data has 1023 missing values"
   ]
  },
  {
   "cell_type": "code",
   "execution_count": 18,
   "metadata": {},
   "outputs": [
    {
     "data": {
      "text/plain": [
       "Channel Title          0\n",
       "Channel Username       0\n",
       "ID                     0\n",
       "Message                0\n",
       "Date                   0\n",
       "Media Path          1977\n",
       "Labeled_Message        0\n",
       "dtype: int64"
      ]
     },
     "execution_count": 18,
     "metadata": {},
     "output_type": "execute_result"
    }
   ],
   "source": [
    "from scripts.preprocessing import preprocessing_data, remove_emoji\n",
    "data = preprocessing_data(data)\n",
    "data.isnull().sum()"
   ]
  },
  {
   "cell_type": "markdown",
   "metadata": {},
   "source": [
    "We have successfully cleaned our data"
   ]
  },
  {
   "cell_type": "code",
   "execution_count": 20,
   "metadata": {},
   "outputs": [
    {
     "data": {
      "text/html": [
       "<div>\n",
       "<style scoped>\n",
       "    .dataframe tbody tr th:only-of-type {\n",
       "        vertical-align: middle;\n",
       "    }\n",
       "\n",
       "    .dataframe tbody tr th {\n",
       "        vertical-align: top;\n",
       "    }\n",
       "\n",
       "    .dataframe thead th {\n",
       "        text-align: right;\n",
       "    }\n",
       "</style>\n",
       "<table border=\"1\" class=\"dataframe\">\n",
       "  <thead>\n",
       "    <tr style=\"text-align: right;\">\n",
       "      <th></th>\n",
       "      <th>Channel Title</th>\n",
       "      <th>Channel Username</th>\n",
       "      <th>ID</th>\n",
       "      <th>Message</th>\n",
       "      <th>Date</th>\n",
       "      <th>Media Path</th>\n",
       "      <th>Labeled_Message</th>\n",
       "    </tr>\n",
       "  </thead>\n",
       "  <tbody>\n",
       "    <tr>\n",
       "      <th>0</th>\n",
       "      <td>Zemen Express®</td>\n",
       "      <td>@ZemenExpress</td>\n",
       "      <td>6035</td>\n",
       "      <td>\\n\\nDoor Bottom Seal Strip Stopper\\nበበርዎ ስር አቧ...</td>\n",
       "      <td>2025-01-18 05:12:07+00:00</td>\n",
       "      <td>NaN</td>\n",
       "      <td>B-PRODUCT\\nDoor O\\nBottom O\\nSeal O\\nStrip O\\...</td>\n",
       "    </tr>\n",
       "    <tr>\n",
       "      <th>1</th>\n",
       "      <td>Zemen Express®</td>\n",
       "      <td>@ZemenExpress</td>\n",
       "      <td>6034</td>\n",
       "      <td>\\n\\nDoor Bottom Seal Strip Stopper\\nበበርዎ ስር አቧ...</td>\n",
       "      <td>2025-01-18 05:11:55+00:00</td>\n",
       "      <td>NaN</td>\n",
       "      <td>B-PRODUCT\\nDoor O\\nBottom O\\nSeal O\\nStrip O\\...</td>\n",
       "    </tr>\n",
       "    <tr>\n",
       "      <th>2</th>\n",
       "      <td>Zemen Express®</td>\n",
       "      <td>@ZemenExpress</td>\n",
       "      <td>6033</td>\n",
       "      <td>\\n\\nDoor Bottom Seal Strip Stopper\\nበበርዎ ስር አቧ...</td>\n",
       "      <td>2025-01-18 05:11:36+00:00</td>\n",
       "      <td>NaN</td>\n",
       "      <td>B-PRODUCT\\nDoor O\\nBottom O\\nSeal O\\nStrip O\\...</td>\n",
       "    </tr>\n",
       "    <tr>\n",
       "      <th>3</th>\n",
       "      <td>Zemen Express®</td>\n",
       "      <td>@ZemenExpress</td>\n",
       "      <td>6032</td>\n",
       "      <td>\\n\\n High pressure water Gun nozzle\\n\\n   መኪና ...</td>\n",
       "      <td>2025-01-17 18:02:23+00:00</td>\n",
       "      <td>NaN</td>\n",
       "      <td>B-PRODUCT\\nHigh O\\npressure O\\nwater O\\nGun O...</td>\n",
       "    </tr>\n",
       "    <tr>\n",
       "      <th>4</th>\n",
       "      <td>Zemen Express®</td>\n",
       "      <td>@ZemenExpress</td>\n",
       "      <td>6031</td>\n",
       "      <td>\\n\\n High pressure water Gun nozzle\\n\\n   መኪና ...</td>\n",
       "      <td>2025-01-17 18:02:11+00:00</td>\n",
       "      <td>NaN</td>\n",
       "      <td>B-PRODUCT\\nHigh O\\npressure O\\nwater O\\nGun O...</td>\n",
       "    </tr>\n",
       "  </tbody>\n",
       "</table>\n",
       "</div>"
      ],
      "text/plain": [
       "    Channel Title Channel Username    ID  \\\n",
       "0  Zemen Express®    @ZemenExpress  6035   \n",
       "1  Zemen Express®    @ZemenExpress  6034   \n",
       "2  Zemen Express®    @ZemenExpress  6033   \n",
       "3  Zemen Express®    @ZemenExpress  6032   \n",
       "4  Zemen Express®    @ZemenExpress  6031   \n",
       "\n",
       "                                             Message  \\\n",
       "0  \\n\\nDoor Bottom Seal Strip Stopper\\nበበርዎ ስር አቧ...   \n",
       "1  \\n\\nDoor Bottom Seal Strip Stopper\\nበበርዎ ስር አቧ...   \n",
       "2  \\n\\nDoor Bottom Seal Strip Stopper\\nበበርዎ ስር አቧ...   \n",
       "3  \\n\\n High pressure water Gun nozzle\\n\\n   መኪና ...   \n",
       "4  \\n\\n High pressure water Gun nozzle\\n\\n   መኪና ...   \n",
       "\n",
       "                        Date  Media Path  \\\n",
       "0  2025-01-18 05:12:07+00:00         NaN   \n",
       "1  2025-01-18 05:11:55+00:00         NaN   \n",
       "2  2025-01-18 05:11:36+00:00         NaN   \n",
       "3  2025-01-17 18:02:23+00:00         NaN   \n",
       "4  2025-01-17 18:02:11+00:00         NaN   \n",
       "\n",
       "                                     Labeled_Message  \n",
       "0   B-PRODUCT\\nDoor O\\nBottom O\\nSeal O\\nStrip O\\...  \n",
       "1   B-PRODUCT\\nDoor O\\nBottom O\\nSeal O\\nStrip O\\...  \n",
       "2   B-PRODUCT\\nDoor O\\nBottom O\\nSeal O\\nStrip O\\...  \n",
       "3   B-PRODUCT\\nHigh O\\npressure O\\nwater O\\nGun O...  \n",
       "4   B-PRODUCT\\nHigh O\\npressure O\\nwater O\\nGun O...  "
      ]
     },
     "execution_count": 20,
     "metadata": {},
     "output_type": "execute_result"
    }
   ],
   "source": [
    "# Apply the function to the 'Message' column\n",
    "data['Message'] = data['Message'].apply(remove_emoji)\n",
    "import re\n",
    "# Remove the sequence of dots (or similar patterns) from the 'Message' and 'labeled_message' column\n",
    "data['Message'] = data['Message'].apply(lambda x: re.sub(r'\\.{2,}', '', x))\n",
    "data['Labeled_Message'] = data['Labeled_Message'].apply(lambda x: re.sub(r'\\.{2,}', '', x))\n",
    "data.head()"
   ]
  },
  {
   "cell_type": "code",
   "execution_count": 21,
   "metadata": {},
   "outputs": [],
   "source": [
    "#save the cleaned telegram data \n",
    "data.to_csv('clean_telegram_data.csv')"
   ]
  },
  {
   "cell_type": "code",
   "execution_count": 24,
   "metadata": {},
   "outputs": [
    {
     "data": {
      "text/plain": [
       "0    Door O\\nBottom O\\nSeal O\\nStrip O\\nStopper O\\n...\n",
       "1    Door O\\nBottom O\\nSeal O\\nStrip O\\nStopper O\\n...\n",
       "2    Door O\\nBottom O\\nSeal O\\nStrip O\\nStopper O\\n...\n",
       "3    High O\\npressure O\\nwater O\\nGun O\\nnozzle O\\n...\n",
       "4    High O\\npressure O\\nwater O\\nGun O\\nnozzle O\\n...\n",
       "5    High O\\npressure O\\nwater O\\nGun O\\nnozzle O\\n...\n",
       "6    Electric O\\nHair O\\nSteamer O\\nCap O\\nHigh O\\n...\n",
       "7    Electric O\\nHair O\\nSteamer O\\nCap O\\nHigh O\\n...\n",
       "8    Straight O\\nComb O\\nHair O\\nstylist O\\n‼ምንም O\\...\n",
       "9    Straight O\\nComb O\\nHair O\\nstylist O\\n‼ምንም O\\...\n",
       "Name: Labeled_Message, dtype: object"
      ]
     },
     "execution_count": 24,
     "metadata": {},
     "output_type": "execute_result"
    }
   ],
   "source": [
    "from scripts.preprocessing import label_message_utf8_with_birr\n",
    "# Apply the updated function to the non-null messages\n",
    "data['Labeled_Message'] = data['Message'].apply(label_message_utf8_with_birr)\n",
    "data.head(10)['Labeled_Message']"
   ]
  },
  {
   "cell_type": "code",
   "execution_count": 25,
   "metadata": {},
   "outputs": [],
   "source": [
    "# Save the updated labeled dataset to a file in CoNLL format\n",
    "labeled_data_birr_path = 'labeled_telegram_product_price_location.txt-' # Define the path where the labeled data will be saved\n",
    "# Open the file for writing with UTF-8 encoding\n",
    "with open(labeled_data_birr_path, 'w', encoding='utf-8') as f:\n",
    "    for index, row in data.iterrows():\n",
    "        # Write the labeled message from the row to the file\n",
    "        f.write(f\"{row['Labeled_Message']}\\n\\n\")"
   ]
  },
  {
   "cell_type": "code",
   "execution_count": null,
   "metadata": {},
   "outputs": [],
   "source": []
  }
 ],
 "metadata": {
  "kernelspec": {
   "display_name": "venv",
   "language": "python",
   "name": "python3"
  },
  "language_info": {
   "codemirror_mode": {
    "name": "ipython",
    "version": 3
   },
   "file_extension": ".py",
   "mimetype": "text/x-python",
   "name": "python",
   "nbconvert_exporter": "python",
   "pygments_lexer": "ipython3",
   "version": "3.11.7"
  }
 },
 "nbformat": 4,
 "nbformat_minor": 2
}
