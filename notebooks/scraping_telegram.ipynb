{
 "cells": [
  {
   "cell_type": "code",
   "execution_count": 1,
   "metadata": {},
   "outputs": [],
   "source": [
    "import os\n",
    "import pandas as pd\n"
   ]
  },
  {
   "cell_type": "code",
   "execution_count": 2,
   "metadata": {},
   "outputs": [
    {
     "name": "stdout",
     "output_type": "stream",
     "text": [
      "C:\\Users\\hp\\Desktop\\tutorial\\kaim-week-5\n"
     ]
    }
   ],
   "source": [
    "os.chdir('C:/Users/hp/Desktop/tutorial/kaim-week-5')\n",
    "print(os.getcwd())"
   ]
  },
  {
   "cell_type": "code",
   "execution_count": 3,
   "metadata": {},
   "outputs": [],
   "source": [
    "%load_ext autoreload\n",
    "%autoreload 2"
   ]
  },
  {
   "cell_type": "code",
   "execution_count": 4,
   "metadata": {},
   "outputs": [],
   "source": [
    "from telethon import TelegramClient\n",
    "import csv\n",
    "import os"
   ]
  },
  {
   "cell_type": "code",
   "execution_count": 5,
   "metadata": {},
   "outputs": [
    {
     "name": "stderr",
     "output_type": "stream",
     "text": [
      "Invalid code. Please try again.\n",
      "Invalid code. Please try again.\n",
      "Invalid code. Please try again.\n"
     ]
    },
    {
     "ename": "RuntimeError",
     "evalue": "3 consecutive sign-in attempts failed. Aborting",
     "output_type": "error",
     "traceback": [
      "\u001b[1;31m---------------------------------------------------------------------------\u001b[0m",
      "\u001b[1;31mRuntimeError\u001b[0m                              Traceback (most recent call last)",
      "Cell \u001b[1;32mIn[5], line 28\u001b[0m\n\u001b[0;32m     25\u001b[0m     \u001b[38;5;28mprint\u001b[39m(\u001b[38;5;124m\"\u001b[39m\u001b[38;5;124mLogged in successfully!\u001b[39m\u001b[38;5;124m\"\u001b[39m)\n\u001b[0;32m     27\u001b[0m \u001b[38;5;66;03m# Run the async function\u001b[39;00m\n\u001b[1;32m---> 28\u001b[0m \u001b[38;5;28;01mawait\u001b[39;00m main()\n",
      "Cell \u001b[1;32mIn[5], line 21\u001b[0m, in \u001b[0;36mmain\u001b[1;34m()\u001b[0m\n\u001b[0;32m     19\u001b[0m \u001b[38;5;28;01masync\u001b[39;00m \u001b[38;5;28;01mdef\u001b[39;00m\u001b[38;5;250m \u001b[39m\u001b[38;5;21mmain\u001b[39m():\n\u001b[0;32m     20\u001b[0m     \u001b[38;5;66;03m# Start the client and log in\u001b[39;00m\n\u001b[1;32m---> 21\u001b[0m     \u001b[38;5;28;01mawait\u001b[39;00m client\u001b[38;5;241m.\u001b[39mstart(phone)\n\u001b[0;32m     23\u001b[0m     \u001b[38;5;66;03m# After logging in, you can start using the client for scraping data or other actions\u001b[39;00m\n\u001b[0;32m     25\u001b[0m     \u001b[38;5;28mprint\u001b[39m(\u001b[38;5;124m\"\u001b[39m\u001b[38;5;124mLogged in successfully!\u001b[39m\u001b[38;5;124m\"\u001b[39m)\n",
      "File \u001b[1;32mc:\\Users\\hp\\Desktop\\tutorial\\kaim-week-5\\venv\\Lib\\site-packages\\telethon\\client\\auth.py:211\u001b[0m, in \u001b[0;36mAuthMethods._start\u001b[1;34m(self, phone, password, bot_token, force_sms, code_callback, first_name, last_name, max_attempts)\u001b[0m\n\u001b[0;32m    209\u001b[0m     attempts \u001b[38;5;241m+\u001b[39m\u001b[38;5;241m=\u001b[39m \u001b[38;5;241m1\u001b[39m\n\u001b[0;32m    210\u001b[0m \u001b[38;5;28;01melse\u001b[39;00m:\n\u001b[1;32m--> 211\u001b[0m     \u001b[38;5;28;01mraise\u001b[39;00m \u001b[38;5;167;01mRuntimeError\u001b[39;00m(\n\u001b[0;32m    212\u001b[0m         \u001b[38;5;124m'\u001b[39m\u001b[38;5;132;01m{}\u001b[39;00m\u001b[38;5;124m consecutive sign-in attempts failed. Aborting\u001b[39m\u001b[38;5;124m'\u001b[39m\n\u001b[0;32m    213\u001b[0m         \u001b[38;5;241m.\u001b[39mformat(max_attempts)\n\u001b[0;32m    214\u001b[0m     )\n\u001b[0;32m    216\u001b[0m \u001b[38;5;28;01mif\u001b[39;00m two_step_detected:\n\u001b[0;32m    217\u001b[0m     \u001b[38;5;28;01mif\u001b[39;00m \u001b[38;5;129;01mnot\u001b[39;00m password:\n",
      "\u001b[1;31mRuntimeError\u001b[0m: 3 consecutive sign-in attempts failed. Aborting"
     ]
    }
   ],
   "source": [
    "from dotenv import load_dotenv\n",
    "from scripts.scraping import scraper,main\n",
    "load_dotenv('.env')\n",
    "api_id = os.getenv('App_API_ID')\n",
    "api_hash = os.getenv('App_API_HASH')\n",
    "phone = os.getenv('phone')\n",
    "# Remove the session file if it exists\n",
    "if os.path.exists('scraping_session.session'):\n",
    "    os.remove('scraping_session.session')\n",
    "# Initialize the client once\n",
    "client = TelegramClient('scraping_session', api_id, api_hash)\n",
    "async def run():\n",
    "    async with client:\n",
    "        await main(client)  # Call the scraping main function#\n",
    "\n",
    "# Run the asynchronous function by awaiting directly in the notebook\n",
    "await run()\n",
    "\n",
    "#async def main():\n",
    "    # Start the client and log in\n",
    "#    await client.start(phone)\n",
    "\n",
    "    # After logging in, you can start using the client for scraping data or other actions\n",
    "\n",
    "#    print(\"Logged in successfully!\")\n",
    "\n",
    "# Run the async function\n",
    "#await main()"
   ]
  },
  {
   "cell_type": "code",
   "execution_count": null,
   "metadata": {},
   "outputs": [],
   "source": []
  }
 ],
 "metadata": {
  "kernelspec": {
   "display_name": "venv",
   "language": "python",
   "name": "python3"
  },
  "language_info": {
   "codemirror_mode": {
    "name": "ipython",
    "version": 3
   },
   "file_extension": ".py",
   "mimetype": "text/x-python",
   "name": "python",
   "nbconvert_exporter": "python",
   "pygments_lexer": "ipython3",
   "version": "3.11.7"
  }
 },
 "nbformat": 4,
 "nbformat_minor": 2
}
