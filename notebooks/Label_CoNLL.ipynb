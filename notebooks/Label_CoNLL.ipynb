{
 "cells": [
  {
   "cell_type": "code",
   "execution_count": 4,
   "metadata": {},
   "outputs": [],
   "source": [
    "import os\n",
    "import pandas as pd"
   ]
  },
  {
   "cell_type": "code",
   "execution_count": 5,
   "metadata": {},
   "outputs": [
    {
     "name": "stdout",
     "output_type": "stream",
     "text": [
      "C:\\Users\\hp\\Desktop\\tutorial\\kaim-week-5\n"
     ]
    }
   ],
   "source": [
    "os.chdir('C:/Users/hp/Desktop/tutorial/kaim-week-5')\n",
    "print(os.getcwd())"
   ]
  },
  {
   "cell_type": "code",
   "execution_count": 6,
   "metadata": {},
   "outputs": [
    {
     "name": "stdout",
     "output_type": "stream",
     "text": [
      "The autoreload extension is already loaded. To reload it, use:\n",
      "  %reload_ext autoreload\n"
     ]
    }
   ],
   "source": [
    "%load_ext autoreload\n",
    "%autoreload 2"
   ]
  },
  {
   "cell_type": "code",
   "execution_count": 8,
   "metadata": {},
   "outputs": [],
   "source": [
    "path='C:/Users/hp/Desktop/tutorial/kaim-week-5/data/clean_telegram_data.csv'"
   ]
  },
  {
   "cell_type": "code",
   "execution_count": 12,
   "metadata": {},
   "outputs": [
    {
     "data": {
      "text/html": [
       "<div>\n",
       "<style scoped>\n",
       "    .dataframe tbody tr th:only-of-type {\n",
       "        vertical-align: middle;\n",
       "    }\n",
       "\n",
       "    .dataframe tbody tr th {\n",
       "        vertical-align: top;\n",
       "    }\n",
       "\n",
       "    .dataframe thead th {\n",
       "        text-align: right;\n",
       "    }\n",
       "</style>\n",
       "<table border=\"1\" class=\"dataframe\">\n",
       "  <thead>\n",
       "    <tr style=\"text-align: right;\">\n",
       "      <th></th>\n",
       "      <th>Unnamed: 0</th>\n",
       "      <th>Channel Title</th>\n",
       "      <th>Channel Username</th>\n",
       "      <th>ID</th>\n",
       "      <th>Message</th>\n",
       "      <th>Date</th>\n",
       "      <th>Media Path</th>\n",
       "    </tr>\n",
       "  </thead>\n",
       "  <tbody>\n",
       "    <tr>\n",
       "      <th>0</th>\n",
       "      <td>0</td>\n",
       "      <td>Zemen Express®</td>\n",
       "      <td>@ZemenExpress</td>\n",
       "      <td>6035</td>\n",
       "      <td>\\n\\nDoor Bottom Seal Strip Stopper\\nበበርዎ ስር አቧ...</td>\n",
       "      <td>2025-01-18 05:12:07+00:00</td>\n",
       "      <td>NaN</td>\n",
       "    </tr>\n",
       "    <tr>\n",
       "      <th>1</th>\n",
       "      <td>1</td>\n",
       "      <td>Zemen Express®</td>\n",
       "      <td>@ZemenExpress</td>\n",
       "      <td>6034</td>\n",
       "      <td>\\n\\nDoor Bottom Seal Strip Stopper\\nበበርዎ ስር አቧ...</td>\n",
       "      <td>2025-01-18 05:11:55+00:00</td>\n",
       "      <td>NaN</td>\n",
       "    </tr>\n",
       "    <tr>\n",
       "      <th>2</th>\n",
       "      <td>2</td>\n",
       "      <td>Zemen Express®</td>\n",
       "      <td>@ZemenExpress</td>\n",
       "      <td>6033</td>\n",
       "      <td>\\n\\nDoor Bottom Seal Strip Stopper\\nበበርዎ ስር አቧ...</td>\n",
       "      <td>2025-01-18 05:11:36+00:00</td>\n",
       "      <td>NaN</td>\n",
       "    </tr>\n",
       "    <tr>\n",
       "      <th>3</th>\n",
       "      <td>3</td>\n",
       "      <td>Zemen Express®</td>\n",
       "      <td>@ZemenExpress</td>\n",
       "      <td>6032</td>\n",
       "      <td>\\n\\n High pressure water Gun nozzle\\n\\n   መኪና ...</td>\n",
       "      <td>2025-01-17 18:02:23+00:00</td>\n",
       "      <td>NaN</td>\n",
       "    </tr>\n",
       "    <tr>\n",
       "      <th>4</th>\n",
       "      <td>4</td>\n",
       "      <td>Zemen Express®</td>\n",
       "      <td>@ZemenExpress</td>\n",
       "      <td>6031</td>\n",
       "      <td>\\n\\n High pressure water Gun nozzle\\n\\n   መኪና ...</td>\n",
       "      <td>2025-01-17 18:02:11+00:00</td>\n",
       "      <td>NaN</td>\n",
       "    </tr>\n",
       "  </tbody>\n",
       "</table>\n",
       "</div>"
      ],
      "text/plain": [
       "   Unnamed: 0   Channel Title Channel Username    ID  \\\n",
       "0           0  Zemen Express®    @ZemenExpress  6035   \n",
       "1           1  Zemen Express®    @ZemenExpress  6034   \n",
       "2           2  Zemen Express®    @ZemenExpress  6033   \n",
       "3           3  Zemen Express®    @ZemenExpress  6032   \n",
       "4           4  Zemen Express®    @ZemenExpress  6031   \n",
       "\n",
       "                                             Message  \\\n",
       "0  \\n\\nDoor Bottom Seal Strip Stopper\\nበበርዎ ስር አቧ...   \n",
       "1  \\n\\nDoor Bottom Seal Strip Stopper\\nበበርዎ ስር አቧ...   \n",
       "2  \\n\\nDoor Bottom Seal Strip Stopper\\nበበርዎ ስር አቧ...   \n",
       "3  \\n\\n High pressure water Gun nozzle\\n\\n   መኪና ...   \n",
       "4  \\n\\n High pressure water Gun nozzle\\n\\n   መኪና ...   \n",
       "\n",
       "                        Date  Media Path  \n",
       "0  2025-01-18 05:12:07+00:00         NaN  \n",
       "1  2025-01-18 05:11:55+00:00         NaN  \n",
       "2  2025-01-18 05:11:36+00:00         NaN  \n",
       "3  2025-01-17 18:02:23+00:00         NaN  \n",
       "4  2025-01-17 18:02:11+00:00         NaN  "
      ]
     },
     "execution_count": 12,
     "metadata": {},
     "output_type": "execute_result"
    }
   ],
   "source": [
    "data=pd.read_csv(path)\n",
    "data=data.drop(columns='Labeled_Message')\n",
    "data.head()"
   ]
  },
  {
   "cell_type": "code",
   "execution_count": 13,
   "metadata": {},
   "outputs": [
    {
     "name": "stdout",
     "output_type": "stream",
     "text": [
      "Labeled data has been saved in CoNLL format.\n"
     ]
    }
   ],
   "source": [
    "from scripts.label_CoNLL import label_message_utf8_with_birr\n",
    "# Apply the labeling function to the \"Message\" column\n",
    "data['Labeled_Message'] = data['Message'].apply(label_message_utf8_with_birr)\n",
    "\n",
    "# Save the labeled data to a file in CoNLL format\n",
    "labeled_data_birr_path = 'labeled_telegram_product_price_location.txt'\n",
    "with open(labeled_data_birr_path, 'w', encoding='utf-8') as f:\n",
    "    for index, row in data.iterrows():\n",
    "        f.write(f\"{row['Labeled_Message']}\\n\\n\")\n",
    "\n",
    "print(\"Labeled data has been saved in CoNLL format.\")\n"
   ]
  },
  {
   "cell_type": "code",
   "execution_count": null,
   "metadata": {},
   "outputs": [],
   "source": []
  }
 ],
 "metadata": {
  "kernelspec": {
   "display_name": "venv",
   "language": "python",
   "name": "python3"
  },
  "language_info": {
   "codemirror_mode": {
    "name": "ipython",
    "version": 3
   },
   "file_extension": ".py",
   "mimetype": "text/x-python",
   "name": "python",
   "nbconvert_exporter": "python",
   "pygments_lexer": "ipython3",
   "version": "3.11.7"
  }
 },
 "nbformat": 4,
 "nbformat_minor": 2
}
