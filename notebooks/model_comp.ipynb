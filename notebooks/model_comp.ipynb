{
 "cells": [
  {
   "cell_type": "code",
   "execution_count": 2,
   "metadata": {},
   "outputs": [],
   "source": [
    "from transformers import AutoTokenizer, AutoModelForTokenClassification\n",
    "from sklearn.metrics import classification_report\n",
    "import torch"
   ]
  },
  {
   "cell_type": "code",
   "execution_count": 13,
   "metadata": {},
   "outputs": [
    {
     "name": "stdout",
     "output_type": "stream",
     "text": [
      "C:\\Users\\hp\\Desktop\\tutorial\\kaim-week-5\n"
     ]
    }
   ],
   "source": [
    "import os\n",
    "os.chdir('C:/Users/hp/Desktop/tutorial/kaim-week-5')\n",
    "print(os.getcwd())"
   ]
  },
  {
   "cell_type": "code",
   "execution_count": 14,
   "metadata": {},
   "outputs": [],
   "source": [
    "# Define paths to your saved models\n",
    "model_paths = [\n",
    "    \"Model-1: C:/Users/hp/Desktop/tutorial/kaim-week-5/data/lora-xlm-roberta-nlp/checkpoint-1253/adapter_model.safetensors\",\n",
    "    \"Model-2: C:/Users/hp/Desktop/tutorial/kaim-week-5/data/lora-xlm-roberta-nlp/checkpoint-2506/adapter_model.safetensors\",\n",
    "    \"Model-3: C:/Users/hp/Desktop/tutorial/kaim-week-5/data/lora-xlm-roberta-nlp/checkpoint-3759/adapter_model.safetensors\"\n",
    "]\n",
    "\n",
    "tokenizer_paths = {\n",
    "    \"Model-1\": \"C:/Users/hp/Desktop/tutorial/kaim-week-5/data/lora-xlm-roberta-nlp/checkpoint-1253/\",\n",
    "    \"Model_2\": \"C:/Users/hp/Desktop/tutorial/kaim-week-5/data/lora-xlm-roberta-nlp/checkpoint-2506/\",\n",
    "    \"Model_3\": \"C:/Users/hp/Desktop/tutorial/kaim-week-5/data/lora-xlm-roberta-nlp/checkpoint-3759/\",\n",
    "}\n",
    "\n"
   ]
  },
  {
   "cell_type": "code",
   "execution_count": 15,
   "metadata": {},
   "outputs": [],
   "source": [
    "evaluation_sentences = [\n",
    "    \"I bought an iPhone yesterday.\",  # Example 1\n",
    "    \"Ethiopian Airlines is a great company.\",  # Example 2\n",
    "    \"The cost of the product is 50 birr.\",  # Example 3\n",
    "    \"Wild Coffee serves amazing drinks.\",  # Example 4\n",
    "]\n",
    "\n",
    "# True token-level labels\n",
    "# Each word in the sentence corresponds to a label\n",
    "true_labels = [\n",
    "    [\"O\", \"O\", \"B-PRODUCT\", \"O\", \"O\"],  # Example 1\n",
    "    [\"B-ORG\", \"I-ORG\", \"O\", \"O\", \"O\"],  # Example 2\n",
    "    [\"O\", \"O\", \"O\", \"O\", \"O\", \"O\"],  # Example 3\n",
    "    [\"B-ORG\", \"I-ORG\", \"O\", \"O\", \"O\"], \n",
    " ] # Example 4"
   ]
  },
  {
   "cell_type": "code",
   "execution_count": 16,
   "metadata": {},
   "outputs": [
    {
     "ename": "ModuleNotFoundError",
     "evalue": "No module named 'scripts.model_campar'",
     "output_type": "error",
     "traceback": [
      "\u001b[1;31m---------------------------------------------------------------------------\u001b[0m",
      "\u001b[1;31mModuleNotFoundError\u001b[0m                       Traceback (most recent call last)",
      "Cell \u001b[1;32mIn[16], line 1\u001b[0m\n\u001b[1;32m----> 1\u001b[0m \u001b[38;5;28;01mfrom\u001b[39;00m\u001b[38;5;250m \u001b[39m\u001b[38;5;21;01mscripts\u001b[39;00m\u001b[38;5;21;01m.\u001b[39;00m\u001b[38;5;21;01mmodel_campar\u001b[39;00m\u001b[38;5;250m \u001b[39m\u001b[38;5;28;01mimport\u001b[39;00m evaluate_model\n\u001b[0;32m      2\u001b[0m results \u001b[38;5;241m=\u001b[39m {}\n\u001b[0;32m      3\u001b[0m \u001b[38;5;28;01mfor\u001b[39;00m model_name, model_path \u001b[38;5;129;01min\u001b[39;00m model_paths\u001b[38;5;241m.\u001b[39mitems():\n",
      "\u001b[1;31mModuleNotFoundError\u001b[0m: No module named 'scripts.model_campar'"
     ]
    }
   ],
   "source": [
    "from scripts.model_campar import evaluate_model\n",
    "results = {}\n",
    "for model_name, model_path in model_paths.items():\n",
    "    tokenizer = AutoTokenizer.from_pretrained(tokenizer_paths[model_name])\n",
    "    model = AutoModelForTokenClassification.from_pretrained(model_path)\n",
    "    report = evaluate_model(evaluation_sentences, true_labels, model, tokenizer)\n",
    "    results[model_name] = report"
   ]
  },
  {
   "cell_type": "code",
   "execution_count": 17,
   "metadata": {},
   "outputs": [
    {
     "ename": "NameError",
     "evalue": "name 'results' is not defined",
     "output_type": "error",
     "traceback": [
      "\u001b[1;31m---------------------------------------------------------------------------\u001b[0m",
      "\u001b[1;31mNameError\u001b[0m                                 Traceback (most recent call last)",
      "Cell \u001b[1;32mIn[17], line 1\u001b[0m\n\u001b[1;32m----> 1\u001b[0m \u001b[38;5;28;01mfor\u001b[39;00m model, report \u001b[38;5;129;01min\u001b[39;00m \u001b[43mresults\u001b[49m\u001b[38;5;241m.\u001b[39mitems():\n\u001b[0;32m      2\u001b[0m     \u001b[38;5;28mprint\u001b[39m(\u001b[38;5;124mf\u001b[39m\u001b[38;5;124m\"\u001b[39m\u001b[38;5;124mModel: \u001b[39m\u001b[38;5;132;01m{\u001b[39;00mmodel\u001b[38;5;132;01m}\u001b[39;00m\u001b[38;5;124m\"\u001b[39m)\n\u001b[0;32m      3\u001b[0m     \u001b[38;5;28mprint\u001b[39m(classification_report(report, digits\u001b[38;5;241m=\u001b[39m\u001b[38;5;241m4\u001b[39m))\n",
      "\u001b[1;31mNameError\u001b[0m: name 'results' is not defined"
     ]
    }
   ],
   "source": [
    "\n",
    "for model, report in results.items():\n",
    "    print(f\"Model: {model}\")\n",
    "    print(classification_report(report, digits=4))"
   ]
  },
  {
   "cell_type": "code",
   "execution_count": null,
   "metadata": {},
   "outputs": [],
   "source": []
  },
  {
   "cell_type": "code",
   "execution_count": null,
   "metadata": {},
   "outputs": [],
   "source": []
  }
 ],
 "metadata": {
  "kernelspec": {
   "display_name": "venv",
   "language": "python",
   "name": "python3"
  },
  "language_info": {
   "codemirror_mode": {
    "name": "ipython",
    "version": 3
   },
   "file_extension": ".py",
   "mimetype": "text/x-python",
   "name": "python",
   "nbconvert_exporter": "python",
   "pygments_lexer": "ipython3",
   "version": "3.11.7"
  }
 },
 "nbformat": 4,
 "nbformat_minor": 2
}
